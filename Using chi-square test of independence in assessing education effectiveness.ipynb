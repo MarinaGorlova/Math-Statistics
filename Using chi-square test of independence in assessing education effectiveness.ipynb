{
 "cells": [
  {
   "cell_type": "markdown",
   "id": "4a73fceb",
   "metadata": {},
   "source": [
    "To support data-driven decision-making in education, it's important to try to ascertain the effect of particular activities on their participants. One possible way to do it would be to compare certain factors for those who took part in the activity and for those who did'nt. These factors may include KPIs, year-end evaluations, the success of adaptation process at a company, different types of engagement, and the ultimate metric for employees' satisfaction - staff turnover."
   ]
  },
  {
   "cell_type": "markdown",
   "id": "4868cb90",
   "metadata": {},
   "source": [
    "The limitation of these methods come from the fact that education is only one of the factors that influence these outcomes for employees. Therefore, there are 2 options: 1) first option is building a model with regards to every factor and assessing the influence of each of them (including education); 2) second option is isolating the influence of one factor to a maximum degree based on our subjective judgements. "
   ]
  },
  {
   "cell_type": "markdown",
   "id": "9a21eeb4",
   "metadata": {},
   "source": [
    "To assess the effect of the introduction education on the employees we'll take the second path and use the metric of staff turnover as a proxy for the education effectiveness. Introduction education at the company includes an online or offline seminar (\"webinar\") and an e-learning component. It provides new employees with the key information about the company's values, its past and future paths and their place in the company's hierarchy. It allows employees to feel like they are an integral part of the company's life and to better understand its values."
   ]
  },
  {
   "cell_type": "markdown",
   "id": "6a11f9c2",
   "metadata": {},
   "source": [
    "The following analysis demonstrates that there is a connection between finishing the introduction education (particularly, the full program) and continuing to work, at least, 3 months after getting hired. "
   ]
  },
  {
   "cell_type": "code",
   "execution_count": null,
   "id": "95c350cb",
   "metadata": {},
   "outputs": [],
   "source": []
  },
  {
   "cell_type": "code",
   "execution_count": 1,
   "id": "e36de65d",
   "metadata": {},
   "outputs": [],
   "source": [
    "import pandas as pd\n",
    "import numpy as np\n",
    "import sklearn\n",
    "import matplotlib.pyplot as plt\n",
    "import seaborn as sns\n",
    "import scipy.stats as stats\n",
    "from scipy.stats import chisquare\n",
    "%matplotlib inline\n"
   ]
  },
  {
   "cell_type": "code",
   "execution_count": null,
   "id": "34e4256f",
   "metadata": {},
   "outputs": [],
   "source": []
  },
  {
   "cell_type": "code",
   "execution_count": null,
   "id": "8755108f",
   "metadata": {},
   "outputs": [],
   "source": []
  },
  {
   "cell_type": "code",
   "execution_count": 12,
   "id": "0164165f",
   "metadata": {},
   "outputs": [],
   "source": [
    "starting_program = pd.read_csv(\"starting_program1.csv\", sep=\";\")"
   ]
  },
  {
   "cell_type": "code",
   "execution_count": 13,
   "id": "e8b8bbbd",
   "metadata": {},
   "outputs": [
    {
     "data": {
      "text/html": [
       "<div>\n",
       "<style scoped>\n",
       "    .dataframe tbody tr th:only-of-type {\n",
       "        vertical-align: middle;\n",
       "    }\n",
       "\n",
       "    .dataframe tbody tr th {\n",
       "        vertical-align: top;\n",
       "    }\n",
       "\n",
       "    .dataframe thead th {\n",
       "        text-align: right;\n",
       "    }\n",
       "</style>\n",
       "<table border=\"1\" class=\"dataframe\">\n",
       "  <thead>\n",
       "    <tr style=\"text-align: right;\">\n",
       "      <th></th>\n",
       "      <th>state</th>\n",
       "      <th>webinar</th>\n",
       "      <th>program</th>\n",
       "    </tr>\n",
       "  </thead>\n",
       "  <tbody>\n",
       "    <tr>\n",
       "      <th>0</th>\n",
       "      <td>working</td>\n",
       "      <td>1</td>\n",
       "      <td>2</td>\n",
       "    </tr>\n",
       "    <tr>\n",
       "      <th>1</th>\n",
       "      <td>working</td>\n",
       "      <td>1</td>\n",
       "      <td>2</td>\n",
       "    </tr>\n",
       "    <tr>\n",
       "      <th>2</th>\n",
       "      <td>working</td>\n",
       "      <td>0</td>\n",
       "      <td>0</td>\n",
       "    </tr>\n",
       "    <tr>\n",
       "      <th>3</th>\n",
       "      <td>working</td>\n",
       "      <td>0</td>\n",
       "      <td>0</td>\n",
       "    </tr>\n",
       "    <tr>\n",
       "      <th>4</th>\n",
       "      <td>working</td>\n",
       "      <td>1</td>\n",
       "      <td>2</td>\n",
       "    </tr>\n",
       "  </tbody>\n",
       "</table>\n",
       "</div>"
      ],
      "text/plain": [
       "     state  webinar  program\n",
       "0  working        1        2\n",
       "1  working        1        2\n",
       "2  working        0        0\n",
       "3  working        0        0\n",
       "4  working        1        2"
      ]
     },
     "execution_count": 13,
     "metadata": {},
     "output_type": "execute_result"
    }
   ],
   "source": [
    "starting_program.head()"
   ]
  },
  {
   "cell_type": "markdown",
   "id": "0048b377",
   "metadata": {},
   "source": [
    "Description of the variables: \n",
    "1) state (working/left) - is an employee working at the time of analysis;\n",
    "2) webinar (1/0) - has an employee completed the webinar as part of the introduction education\n",
    "3) program (0/1/2/3) - has an employee completed the full program (in different variations) for the introduction education"
   ]
  },
  {
   "cell_type": "markdown",
   "id": "78ec5572",
   "metadata": {},
   "source": [
    "4 levels of program completion: 0-nothing, 1-only e-learning, 2-only webinar, 3-full program."
   ]
  },
  {
   "cell_type": "code",
   "execution_count": null,
   "id": "3ed996fa",
   "metadata": {},
   "outputs": [],
   "source": []
  },
  {
   "cell_type": "code",
   "execution_count": null,
   "id": "ec84e088",
   "metadata": {},
   "outputs": [],
   "source": []
  },
  {
   "cell_type": "code",
   "execution_count": 14,
   "id": "4201f37f",
   "metadata": {},
   "outputs": [],
   "source": [
    "data_crosstab = pd.crosstab(starting_program['state'],\n",
    "                           starting_program['program'],\n",
    "                           margins=True, margins_name='Total')"
   ]
  },
  {
   "cell_type": "code",
   "execution_count": 15,
   "id": "06203917",
   "metadata": {},
   "outputs": [
    {
     "data": {
      "text/html": [
       "<div>\n",
       "<style scoped>\n",
       "    .dataframe tbody tr th:only-of-type {\n",
       "        vertical-align: middle;\n",
       "    }\n",
       "\n",
       "    .dataframe tbody tr th {\n",
       "        vertical-align: top;\n",
       "    }\n",
       "\n",
       "    .dataframe thead th {\n",
       "        text-align: right;\n",
       "    }\n",
       "</style>\n",
       "<table border=\"1\" class=\"dataframe\">\n",
       "  <thead>\n",
       "    <tr style=\"text-align: right;\">\n",
       "      <th>program</th>\n",
       "      <th>0</th>\n",
       "      <th>1</th>\n",
       "      <th>2</th>\n",
       "      <th>3</th>\n",
       "      <th>Total</th>\n",
       "    </tr>\n",
       "    <tr>\n",
       "      <th>state</th>\n",
       "      <th></th>\n",
       "      <th></th>\n",
       "      <th></th>\n",
       "      <th></th>\n",
       "      <th></th>\n",
       "    </tr>\n",
       "  </thead>\n",
       "  <tbody>\n",
       "    <tr>\n",
       "      <th>left</th>\n",
       "      <td>125</td>\n",
       "      <td>151</td>\n",
       "      <td>54</td>\n",
       "      <td>146</td>\n",
       "      <td>476</td>\n",
       "    </tr>\n",
       "    <tr>\n",
       "      <th>working</th>\n",
       "      <td>580</td>\n",
       "      <td>517</td>\n",
       "      <td>328</td>\n",
       "      <td>1214</td>\n",
       "      <td>2639</td>\n",
       "    </tr>\n",
       "    <tr>\n",
       "      <th>Total</th>\n",
       "      <td>705</td>\n",
       "      <td>668</td>\n",
       "      <td>382</td>\n",
       "      <td>1360</td>\n",
       "      <td>3115</td>\n",
       "    </tr>\n",
       "  </tbody>\n",
       "</table>\n",
       "</div>"
      ],
      "text/plain": [
       "program    0    1    2     3  Total\n",
       "state                              \n",
       "left     125  151   54   146    476\n",
       "working  580  517  328  1214   2639\n",
       "Total    705  668  382  1360   3115"
      ]
     },
     "execution_count": 15,
     "metadata": {},
     "output_type": "execute_result"
    }
   ],
   "source": [
    "data_crosstab"
   ]
  },
  {
   "cell_type": "markdown",
   "id": "256e5e5c",
   "metadata": {},
   "source": [
    "Both variables are nominative, there's enough data to use the Pearson's chi-square. \n",
    "Pearson's statistical hypothesis with a chi-square criteria is an example of independence test between categorical variables.\n",
    "Chi-square independence test lets us decide whether there is a connection (dependence) between two variables.\n",
    "H0: 2 categorical variables are not connected.\n",
    "H1: There is a connection between 2 categorical variables."
   ]
  },
  {
   "cell_type": "code",
   "execution_count": 16,
   "id": "5c5c4a3d",
   "metadata": {},
   "outputs": [],
   "source": [
    "alpha = 0.05\n",
    "chi_square = 0\n",
    "rows = starting_program['state'].unique()\n",
    "columns = starting_program['program'].unique()"
   ]
  },
  {
   "cell_type": "code",
   "execution_count": 17,
   "id": "38219445",
   "metadata": {},
   "outputs": [],
   "source": [
    "for i in columns:\n",
    "    for j in rows:\n",
    "        O = data_crosstab[i][j]\n",
    "        E = data_crosstab[i]['Total'] * data_crosstab['Total'][j] / data_crosstab['Total']['Total']\n",
    "        chi_square += (O-E)**2/E"
   ]
  },
  {
   "cell_type": "code",
   "execution_count": 18,
   "id": "0e174b17",
   "metadata": {},
   "outputs": [
    {
     "data": {
      "text/plain": [
       "53.038757027178754"
      ]
     },
     "execution_count": 18,
     "metadata": {},
     "output_type": "execute_result"
    }
   ],
   "source": [
    "chi_square"
   ]
  },
  {
   "cell_type": "code",
   "execution_count": 19,
   "id": "a44854e8",
   "metadata": {},
   "outputs": [
    {
     "data": {
      "text/plain": [
       "array([2, 0, 3, 1], dtype=int64)"
      ]
     },
     "execution_count": 19,
     "metadata": {},
     "output_type": "execute_result"
    }
   ],
   "source": [
    "columns"
   ]
  },
  {
   "cell_type": "code",
   "execution_count": 21,
   "id": "e7a4c39a",
   "metadata": {},
   "outputs": [
    {
     "name": "stdout",
     "output_type": "stream",
     "text": [
      "Approach 2: The critical value approach to hypothesis testing in the decision rule\n",
      "chisquare-score is: 53.038757027178754  and p value is: 7.814727903251179\n",
      "Null hypothesis is rejected.\n"
     ]
    }
   ],
   "source": [
    "# The critical value approach\n",
    "print(\"Approach 2: The critical value approach to hypothesis testing in the decision rule\")\n",
    "critical_value = stats.chi2.ppf(1-alpha, (len(rows)-1)*(len(columns)-1))\n",
    "conclusion = \"Failed to reject the null hypothesis.\"\n",
    "if chi_square > critical_value:\n",
    "    conclusion = \"Null hypothesis is rejected.\"\n",
    "    \n",
    "print(\"chisquare-score is:\", chi_square, \" and p value is:\", critical_value)\n",
    "print(conclusion)"
   ]
  },
  {
   "cell_type": "markdown",
   "id": "e99600bd",
   "metadata": {},
   "source": [
    "The found connection is an evidence of the existence of common prerequisites for both variables - the importance of corporate culture, common values, communication with management of all levels. "
   ]
  },
  {
   "cell_type": "markdown",
   "id": "853d9137",
   "metadata": {},
   "source": [
    "The result of this study can be used in communication with the management to highlight the importance of education for retaining employees, in communication with the employees to remind them of the necessity to complete mandatory training."
   ]
  },
  {
   "cell_type": "code",
   "execution_count": null,
   "id": "ef998135",
   "metadata": {},
   "outputs": [],
   "source": []
  }
 ],
 "metadata": {
  "kernelspec": {
   "display_name": "Python 3",
   "language": "python",
   "name": "python3"
  },
  "language_info": {
   "codemirror_mode": {
    "name": "ipython",
    "version": 3
   },
   "file_extension": ".py",
   "mimetype": "text/x-python",
   "name": "python",
   "nbconvert_exporter": "python",
   "pygments_lexer": "ipython3",
   "version": "3.8.8"
  }
 },
 "nbformat": 4,
 "nbformat_minor": 5
}
