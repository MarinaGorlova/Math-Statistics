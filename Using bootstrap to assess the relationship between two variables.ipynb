{
 "cells": [
  {
   "cell_type": "markdown",
   "id": "870ff25c",
   "metadata": {},
   "source": [
    "In this analysis, we will use non-parametrical Mann-Whitney criteria and bootstrap method of statististical testing to evaluate the relationship between employees' education and their year-end grade."
   ]
  },
  {
   "cell_type": "code",
   "execution_count": 2,
   "id": "f60dd7e3",
   "metadata": {},
   "outputs": [],
   "source": [
    "import pandas as pd\n",
    "import numpy as np\n",
    "import seaborn as sns\n",
    "from scipy.stats import norm, mannwhitneyu, kruskal\n",
    "from scipy import stats\n",
    "import matplotlib.pyplot as plt\n",
    "from tqdm.auto import tqdm\n",
    "\n",
    "plt.style.use('ggplot')"
   ]
  },
  {
   "cell_type": "code",
   "execution_count": 4,
   "id": "07ec75d1",
   "metadata": {},
   "outputs": [],
   "source": [
    "%matplotlib inline"
   ]
  },
  {
   "cell_type": "code",
   "execution_count": null,
   "id": "3a2f95fb",
   "metadata": {},
   "outputs": [],
   "source": []
  },
  {
   "cell_type": "code",
   "execution_count": null,
   "id": "3fea19c9",
   "metadata": {},
   "outputs": [],
   "source": []
  },
  {
   "cell_type": "markdown",
   "id": "dbda76da",
   "metadata": {},
   "source": [
    "First, certain corrections are needed to be able to work with the dataset."
   ]
  },
  {
   "cell_type": "code",
   "execution_count": 5,
   "id": "f5dae040",
   "metadata": {},
   "outputs": [],
   "source": [
    "result = pd.read_csv(\"bootstrap.csv\", sep = \";\", encoding=\"windows-1251\")"
   ]
  },
  {
   "cell_type": "code",
   "execution_count": 6,
   "id": "64874e27",
   "metadata": {},
   "outputs": [],
   "source": [
    "result['h'] = result['h'].str.replace(',', '.')"
   ]
  },
  {
   "cell_type": "code",
   "execution_count": null,
   "id": "911232a9",
   "metadata": {},
   "outputs": [],
   "source": []
  },
  {
   "cell_type": "code",
   "execution_count": 7,
   "id": "81a79342",
   "metadata": {},
   "outputs": [],
   "source": [
    "result = result[result.h != 'no data']"
   ]
  },
  {
   "cell_type": "code",
   "execution_count": 8,
   "id": "acdc6940",
   "metadata": {},
   "outputs": [],
   "source": [
    "result = result.astype({'h': 'float'})"
   ]
  },
  {
   "cell_type": "code",
   "execution_count": 9,
   "id": "4aa5b242",
   "metadata": {
    "scrolled": true
   },
   "outputs": [
    {
     "data": {
      "text/plain": [
       "F     object\n",
       "h    float64\n",
       "dtype: object"
      ]
     },
     "execution_count": 9,
     "metadata": {},
     "output_type": "execute_result"
    }
   ],
   "source": [
    "result.dtypes"
   ]
  },
  {
   "cell_type": "markdown",
   "id": "14bc4c4e",
   "metadata": {},
   "source": [
    "F variable refers to 5 different grades for an employee's year-end assessment. h variable is the number of training hours in a year per employee. Only certain types of education are included in this analysis - those that can be chosen by an employee to help him or her move along the career path or become an expert in a certain professional field.  "
   ]
  },
  {
   "cell_type": "code",
   "execution_count": 10,
   "id": "02eec733",
   "metadata": {},
   "outputs": [
    {
     "data": {
      "text/plain": [
       "3          6786\n",
       "no data    4751\n",
       "4          1878\n",
       "2           677\n",
       "5           151\n",
       "1            46\n",
       "Name: F, dtype: int64"
      ]
     },
     "execution_count": 10,
     "metadata": {},
     "output_type": "execute_result"
    }
   ],
   "source": [
    "# number of values in each group\n",
    "result.F.value_counts()"
   ]
  },
  {
   "cell_type": "code",
   "execution_count": 11,
   "id": "69701af1",
   "metadata": {},
   "outputs": [
    {
     "data": {
      "text/plain": [
       "count    14289.000000\n",
       "mean         6.604597\n",
       "std         19.901644\n",
       "min          0.000000\n",
       "25%          0.000000\n",
       "50%          0.000000\n",
       "75%          3.500000\n",
       "max        698.500000\n",
       "Name: h, dtype: float64"
      ]
     },
     "execution_count": 11,
     "metadata": {},
     "output_type": "execute_result"
    }
   ],
   "source": [
    "# number of values in each group\n",
    "result['h'].describe()"
   ]
  },
  {
   "cell_type": "code",
   "execution_count": null,
   "id": "80d4bb00",
   "metadata": {},
   "outputs": [],
   "source": []
  },
  {
   "cell_type": "code",
   "execution_count": null,
   "id": "56f5554a",
   "metadata": {},
   "outputs": [],
   "source": []
  },
  {
   "cell_type": "markdown",
   "id": "f0858b47",
   "metadata": {},
   "source": [
    "## Mean and median values"
   ]
  },
  {
   "cell_type": "code",
   "execution_count": 17,
   "id": "e3ca7a7e",
   "metadata": {},
   "outputs": [
    {
     "data": {
      "text/html": [
       "<div>\n",
       "<style scoped>\n",
       "    .dataframe tbody tr th:only-of-type {\n",
       "        vertical-align: middle;\n",
       "    }\n",
       "\n",
       "    .dataframe tbody tr th {\n",
       "        vertical-align: top;\n",
       "    }\n",
       "\n",
       "    .dataframe thead th {\n",
       "        text-align: right;\n",
       "    }\n",
       "</style>\n",
       "<table border=\"1\" class=\"dataframe\">\n",
       "  <thead>\n",
       "    <tr style=\"text-align: right;\">\n",
       "      <th></th>\n",
       "      <th>F</th>\n",
       "      <th>h</th>\n",
       "    </tr>\n",
       "  </thead>\n",
       "  <tbody>\n",
       "    <tr>\n",
       "      <th>0</th>\n",
       "      <td>1</td>\n",
       "      <td>4.489130</td>\n",
       "    </tr>\n",
       "    <tr>\n",
       "      <th>1</th>\n",
       "      <td>2</td>\n",
       "      <td>7.361152</td>\n",
       "    </tr>\n",
       "    <tr>\n",
       "      <th>2</th>\n",
       "      <td>3</td>\n",
       "      <td>8.546401</td>\n",
       "    </tr>\n",
       "    <tr>\n",
       "      <th>3</th>\n",
       "      <td>4</td>\n",
       "      <td>11.691001</td>\n",
       "    </tr>\n",
       "    <tr>\n",
       "      <th>4</th>\n",
       "      <td>5</td>\n",
       "      <td>12.304636</td>\n",
       "    </tr>\n",
       "    <tr>\n",
       "      <th>5</th>\n",
       "      <td>no data</td>\n",
       "      <td>1.551989</td>\n",
       "    </tr>\n",
       "  </tbody>\n",
       "</table>\n",
       "</div>"
      ],
      "text/plain": [
       "         F          h\n",
       "0        1   4.489130\n",
       "1        2   7.361152\n",
       "2        3   8.546401\n",
       "3        4  11.691001\n",
       "4        5  12.304636\n",
       "5  no data   1.551989"
      ]
     },
     "execution_count": 17,
     "metadata": {},
     "output_type": "execute_result"
    }
   ],
   "source": [
    "result.groupby('F', as_index = False).mean()"
   ]
  },
  {
   "cell_type": "code",
   "execution_count": 18,
   "id": "deea4ca7",
   "metadata": {},
   "outputs": [
    {
     "data": {
      "text/html": [
       "<div>\n",
       "<style scoped>\n",
       "    .dataframe tbody tr th:only-of-type {\n",
       "        vertical-align: middle;\n",
       "    }\n",
       "\n",
       "    .dataframe tbody tr th {\n",
       "        vertical-align: top;\n",
       "    }\n",
       "\n",
       "    .dataframe thead th {\n",
       "        text-align: right;\n",
       "    }\n",
       "</style>\n",
       "<table border=\"1\" class=\"dataframe\">\n",
       "  <thead>\n",
       "    <tr style=\"text-align: right;\">\n",
       "      <th></th>\n",
       "      <th>F</th>\n",
       "      <th>h</th>\n",
       "    </tr>\n",
       "  </thead>\n",
       "  <tbody>\n",
       "    <tr>\n",
       "      <th>0</th>\n",
       "      <td>1</td>\n",
       "      <td>1.25</td>\n",
       "    </tr>\n",
       "    <tr>\n",
       "      <th>1</th>\n",
       "      <td>2</td>\n",
       "      <td>1.00</td>\n",
       "    </tr>\n",
       "    <tr>\n",
       "      <th>2</th>\n",
       "      <td>3</td>\n",
       "      <td>1.00</td>\n",
       "    </tr>\n",
       "    <tr>\n",
       "      <th>3</th>\n",
       "      <td>4</td>\n",
       "      <td>2.00</td>\n",
       "    </tr>\n",
       "    <tr>\n",
       "      <th>4</th>\n",
       "      <td>5</td>\n",
       "      <td>1.50</td>\n",
       "    </tr>\n",
       "    <tr>\n",
       "      <th>5</th>\n",
       "      <td>no data</td>\n",
       "      <td>0.00</td>\n",
       "    </tr>\n",
       "  </tbody>\n",
       "</table>\n",
       "</div>"
      ],
      "text/plain": [
       "         F     h\n",
       "0        1  1.25\n",
       "1        2  1.00\n",
       "2        3  1.00\n",
       "3        4  2.00\n",
       "4        5  1.50\n",
       "5  no data  0.00"
      ]
     },
     "execution_count": 18,
     "metadata": {},
     "output_type": "execute_result"
    }
   ],
   "source": [
    "result.groupby('F', as_index = False).median()"
   ]
  },
  {
   "cell_type": "code",
   "execution_count": 19,
   "id": "0497a1a8",
   "metadata": {},
   "outputs": [
    {
     "data": {
      "text/html": [
       "<div>\n",
       "<style scoped>\n",
       "    .dataframe tbody tr th:only-of-type {\n",
       "        vertical-align: middle;\n",
       "    }\n",
       "\n",
       "    .dataframe tbody tr th {\n",
       "        vertical-align: top;\n",
       "    }\n",
       "\n",
       "    .dataframe thead th {\n",
       "        text-align: right;\n",
       "    }\n",
       "</style>\n",
       "<table border=\"1\" class=\"dataframe\">\n",
       "  <thead>\n",
       "    <tr style=\"text-align: right;\">\n",
       "      <th></th>\n",
       "      <th>F</th>\n",
       "      <th>h</th>\n",
       "    </tr>\n",
       "  </thead>\n",
       "  <tbody>\n",
       "    <tr>\n",
       "      <th>0</th>\n",
       "      <td>1</td>\n",
       "      <td>46</td>\n",
       "    </tr>\n",
       "    <tr>\n",
       "      <th>1</th>\n",
       "      <td>2</td>\n",
       "      <td>677</td>\n",
       "    </tr>\n",
       "    <tr>\n",
       "      <th>2</th>\n",
       "      <td>3</td>\n",
       "      <td>6786</td>\n",
       "    </tr>\n",
       "    <tr>\n",
       "      <th>3</th>\n",
       "      <td>4</td>\n",
       "      <td>1878</td>\n",
       "    </tr>\n",
       "    <tr>\n",
       "      <th>4</th>\n",
       "      <td>5</td>\n",
       "      <td>151</td>\n",
       "    </tr>\n",
       "    <tr>\n",
       "      <th>5</th>\n",
       "      <td>no data</td>\n",
       "      <td>4751</td>\n",
       "    </tr>\n",
       "  </tbody>\n",
       "</table>\n",
       "</div>"
      ],
      "text/plain": [
       "         F     h\n",
       "0        1    46\n",
       "1        2   677\n",
       "2        3  6786\n",
       "3        4  1878\n",
       "4        5   151\n",
       "5  no data  4751"
      ]
     },
     "execution_count": 19,
     "metadata": {},
     "output_type": "execute_result"
    }
   ],
   "source": [
    "result.groupby('F', as_index = False).count()"
   ]
  },
  {
   "cell_type": "markdown",
   "id": "e75e7af1",
   "metadata": {},
   "source": [
    "Two of the most common year-end assessments are '3' and '4'. Let's calculate statistics for training hours associated with them."
   ]
  },
  {
   "cell_type": "code",
   "execution_count": 13,
   "id": "14054daf",
   "metadata": {},
   "outputs": [
    {
     "data": {
      "text/plain": [
       "count    6786.000000\n",
       "mean        8.546401\n",
       "std        23.040681\n",
       "min         0.000000\n",
       "50%         1.000000\n",
       "75%         6.000000\n",
       "95%        43.875000\n",
       "99%        80.575000\n",
       "max       698.500000\n",
       "Name: h, dtype: float64"
      ]
     },
     "execution_count": 13,
     "metadata": {},
     "output_type": "execute_result"
    }
   ],
   "source": [
    "result[result.F == '3'][\"h\"].describe(percentiles=[0.75, 0.95, 0.99])"
   ]
  },
  {
   "cell_type": "code",
   "execution_count": 14,
   "id": "79230b26",
   "metadata": {},
   "outputs": [
    {
     "data": {
      "text/plain": [
       "count    1878.000000\n",
       "mean       11.691001\n",
       "std        25.654038\n",
       "min         0.000000\n",
       "50%         2.000000\n",
       "75%        14.000000\n",
       "95%        51.000000\n",
       "99%       110.110000\n",
       "max       436.000000\n",
       "Name: h, dtype: float64"
      ]
     },
     "execution_count": 14,
     "metadata": {},
     "output_type": "execute_result"
    }
   ],
   "source": [
    "result[result.F == '4'][\"h\"].describe(percentiles=[0.75, 0.95, 0.99])"
   ]
  },
  {
   "cell_type": "markdown",
   "id": "84302ef1",
   "metadata": {},
   "source": [
    "Their is a tendency evident from comparing these numbers - the number of training hours is bigger for those with a higher year-end grade. "
   ]
  },
  {
   "cell_type": "code",
   "execution_count": null,
   "id": "6643086d",
   "metadata": {},
   "outputs": [],
   "source": []
  },
  {
   "cell_type": "code",
   "execution_count": null,
   "id": "b354accf",
   "metadata": {},
   "outputs": [],
   "source": []
  },
  {
   "cell_type": "markdown",
   "id": "7bfcf658",
   "metadata": {},
   "source": [
    "## 2 samples of 1000 each, Mann-Whitney criteria, Shapiro-Wilk test of normality"
   ]
  },
  {
   "cell_type": "code",
   "execution_count": 21,
   "id": "9a4b8acc",
   "metadata": {},
   "outputs": [
    {
     "data": {
      "text/plain": [
       "ShapiroResult(statistic=0.4193333387374878, pvalue=0.0)"
      ]
     },
     "execution_count": 21,
     "metadata": {},
     "output_type": "execute_result"
    }
   ],
   "source": [
    "sample_1 = result[result.F == '4'][\"h\"].sample(1000)\n",
    "stats.shapiro(sample_1)"
   ]
  },
  {
   "cell_type": "code",
   "execution_count": 22,
   "id": "18a0c6e6",
   "metadata": {},
   "outputs": [
    {
     "data": {
      "text/plain": [
       "ShapiroResult(statistic=0.2663702964782715, pvalue=0.0)"
      ]
     },
     "execution_count": 22,
     "metadata": {},
     "output_type": "execute_result"
    }
   ],
   "source": [
    "sample_0 = result[result.F == '3'][\"h\"].sample(1000)\n",
    "stats.shapiro(sample_0)"
   ]
  },
  {
   "cell_type": "markdown",
   "id": "91228d9b",
   "metadata": {},
   "source": [
    "Both samples do not pass tests for normality, as they are far from normal"
   ]
  },
  {
   "cell_type": "code",
   "execution_count": 23,
   "id": "a4e5d025",
   "metadata": {},
   "outputs": [
    {
     "name": "stdout",
     "output_type": "stream",
     "text": [
      "Statistics=462695.000, p=0.003\n"
     ]
    }
   ],
   "source": [
    "stat, p = mannwhitneyu(sample_0, sample_1)\n",
    "print('Statistics=%.3f, p=%.3f' % (stat, p))"
   ]
  },
  {
   "cell_type": "markdown",
   "id": "e56ff98a",
   "metadata": {},
   "source": [
    "p-value is lower than 0.05, therefore we have enough evidence to reject the null hypothesis of no differences between the groups at the determined level of significance."
   ]
  },
  {
   "cell_type": "code",
   "execution_count": null,
   "id": "f56256aa",
   "metadata": {},
   "outputs": [],
   "source": []
  },
  {
   "cell_type": "code",
   "execution_count": 24,
   "id": "51c43f90",
   "metadata": {},
   "outputs": [
    {
     "data": {
      "text/plain": [
       "count    1000.000000\n",
       "mean        8.411300\n",
       "std        27.295239\n",
       "min         0.000000\n",
       "25%         0.000000\n",
       "50%         1.000000\n",
       "75%         6.000000\n",
       "max       681.000000\n",
       "Name: h, dtype: float64"
      ]
     },
     "execution_count": 24,
     "metadata": {},
     "output_type": "execute_result"
    }
   ],
   "source": [
    "sample_0.describe()"
   ]
  },
  {
   "cell_type": "code",
   "execution_count": 25,
   "id": "2567cd90",
   "metadata": {},
   "outputs": [
    {
     "data": {
      "text/plain": [
       "count    1000.00000\n",
       "mean       12.01765\n",
       "std        29.03644\n",
       "min         0.00000\n",
       "25%         0.00000\n",
       "50%         2.00000\n",
       "75%        14.00000\n",
       "max       436.00000\n",
       "Name: h, dtype: float64"
      ]
     },
     "execution_count": 25,
     "metadata": {},
     "output_type": "execute_result"
    }
   ],
   "source": [
    "sample_1.describe()"
   ]
  },
  {
   "cell_type": "code",
   "execution_count": null,
   "id": "fa0f951d",
   "metadata": {},
   "outputs": [],
   "source": []
  },
  {
   "cell_type": "markdown",
   "id": "304ff678",
   "metadata": {},
   "source": [
    "## Comparing mean values using bootstrap"
   ]
  },
  {
   "cell_type": "code",
   "execution_count": 26,
   "id": "19be0e07",
   "metadata": {},
   "outputs": [
    {
     "data": {
      "text/plain": [
       "x    float64\n",
       "y    float64\n",
       "dtype: object"
      ]
     },
     "execution_count": 26,
     "metadata": {},
     "output_type": "execute_result"
    }
   ],
   "source": [
    "x = np.array(sample_0)\n",
    "y = np.array(sample_1)\n",
    "\n",
    "df_xy = pd.DataFrame({\"x\": x, \"y\": y})\n",
    "df_xy = df_xy.astype({\"x\": float, \"y\": float})\n",
    "df_xy.dtypes"
   ]
  },
  {
   "cell_type": "code",
   "execution_count": 27,
   "id": "4db212d4",
   "metadata": {},
   "outputs": [
    {
     "data": {
      "text/plain": [
       "1000"
      ]
     },
     "execution_count": 27,
     "metadata": {},
     "output_type": "execute_result"
    }
   ],
   "source": [
    "len(x)"
   ]
  },
  {
   "cell_type": "code",
   "execution_count": 28,
   "id": "8dda72cd",
   "metadata": {},
   "outputs": [],
   "source": [
    "def get_bootstrap(\n",
    "    data_column_1, # values of the first sample\n",
    "    data_column_2, # values of the second sample\n",
    "    boot_it = 1000, # number of bootstrap sub-samples\n",
    "    statistic = np.mean, # our target statistics\n",
    "    bootstrap_conf_level = 0.95 # significance level\n",
    "):\n",
    "    boot_len = max([len(data_column_1), len(data_column_2)])\n",
    "    boot_data = []\n",
    "    for i in tqdm(range(boot_it)): # sub-sampling\n",
    "        samples_1 = data_column_1.sample(\n",
    "            boot_len, \n",
    "            replace = True # replace parameter\n",
    "        ).values\n",
    "        \n",
    "        samples_2 = data_column_2.sample(\n",
    "            boot_len, \n",
    "            replace = True\n",
    "        ).values\n",
    "        \n",
    "        boot_data.append(statistic(samples_1-samples_2)) # mean() - applying statistical criteria\n",
    "        \n",
    "    pd_boot_data = pd.DataFrame(boot_data)\n",
    "        \n",
    "    left_quant = (1 - bootstrap_conf_level)/2\n",
    "    right_quant = 1 - (1 - bootstrap_conf_level) / 2\n",
    "    ci = pd_boot_data.quantile([left_quant, right_quant])\n",
    "        \n",
    "    p_1 = norm.cdf(\n",
    "        x = 0, \n",
    "        loc = np.mean(boot_data), \n",
    "        scale = np.std(boot_data)\n",
    "    )\n",
    "    p_2 = norm.cdf(\n",
    "        x = 0, \n",
    "        loc = -np.mean(boot_data), \n",
    "        scale = np.std(boot_data)\n",
    "    )\n",
    "    p_value = min(p_1, p_2) * 2\n",
    "        \n",
    "    # visualizing\n",
    "    plt.hist(pd_boot_data[0], bins = 50)\n",
    "    \n",
    "    plt.style.use('ggplot')\n",
    "    plt.vlines(ci,ymin=0,ymax=50,linestyle='--')\n",
    "    plt.xlabel('boot_data')\n",
    "    plt.ylabel('frequency')\n",
    "    plt.title(\"Histogram of boot_data\")\n",
    "    plt.show()\n",
    "       \n",
    "    return {\"boot_data\": boot_data, \n",
    "            \"ci\": ci, \n",
    "            \"p_value\": p_value}"
   ]
  },
  {
   "cell_type": "code",
   "execution_count": 29,
   "id": "ff1930fd",
   "metadata": {},
   "outputs": [
    {
     "data": {
      "application/vnd.jupyter.widget-view+json": {
       "model_id": "084d58e87f8443c3ae91b1985ad91349",
       "version_major": 2,
       "version_minor": 0
      },
      "text/plain": [
       "  0%|          | 0/2000 [00:00<?, ?it/s]"
      ]
     },
     "metadata": {},
     "output_type": "display_data"
    },
    {
     "data": {
      "image/png": "[encoded data removed]",
      "text/plain": [
       "<Figure size 432x288 with 1 Axes>"
      ]
     },
     "metadata": {
      "needs_background": "light"
     },
     "output_type": "display_data"
    }
   ],
   "source": [
    "booted_data = get_bootstrap(df_xy.x, df_xy.y, boot_it = 2000)"
   ]
  },
  {
   "cell_type": "code",
   "execution_count": 30,
   "id": "538fdc16",
   "metadata": {},
   "outputs": [
    {
     "data": {
      "text/plain": [
       "0.003065415930834807"
      ]
     },
     "execution_count": 30,
     "metadata": {},
     "output_type": "execute_result"
    }
   ],
   "source": [
    "booted_data[\"p_value\"]"
   ]
  },
  {
   "cell_type": "code",
   "execution_count": 31,
   "id": "03a4189e",
   "metadata": {},
   "outputs": [
    {
     "data": {
      "text/html": [
       "<div>\n",
       "<style scoped>\n",
       "    .dataframe tbody tr th:only-of-type {\n",
       "        vertical-align: middle;\n",
       "    }\n",
       "\n",
       "    .dataframe tbody tr th {\n",
       "        vertical-align: top;\n",
       "    }\n",
       "\n",
       "    .dataframe thead th {\n",
       "        text-align: right;\n",
       "    }\n",
       "</style>\n",
       "<table border=\"1\" class=\"dataframe\">\n",
       "  <thead>\n",
       "    <tr style=\"text-align: right;\">\n",
       "      <th></th>\n",
       "      <th>0</th>\n",
       "    </tr>\n",
       "  </thead>\n",
       "  <tbody>\n",
       "    <tr>\n",
       "      <th>0.025</th>\n",
       "      <td>-5.989600</td>\n",
       "    </tr>\n",
       "    <tr>\n",
       "      <th>0.975</th>\n",
       "      <td>-1.199071</td>\n",
       "    </tr>\n",
       "  </tbody>\n",
       "</table>\n",
       "</div>"
      ],
      "text/plain": [
       "              0\n",
       "0.025 -5.989600\n",
       "0.975 -1.199071"
      ]
     },
     "execution_count": 31,
     "metadata": {},
     "output_type": "execute_result"
    }
   ],
   "source": [
    "booted_data[\"ci\"]"
   ]
  },
  {
   "cell_type": "markdown",
   "id": "8d07d977",
   "metadata": {},
   "source": [
    "0 не входит в получившийся доверительный интервал, p-value меньше 0.05, следовательно, у нас достаточно оснований отвергнуть нулевую гипотезу об отсутствии различий среднего значений метрики при 95% уровне значимости."
   ]
  },
  {
   "cell_type": "markdown",
   "id": "1191f135",
   "metadata": {},
   "source": [
    "0 is not included in the resulting confidence interval, p-value is less that 0.05, therefore we have enough evidence to reject the null hypothesis of no differences between the groups at the 95% level of significance."
   ]
  },
  {
   "cell_type": "markdown",
   "id": "26372ba7",
   "metadata": {},
   "source": [
    "The differences in training hours between those who received a lower and a higher year-end grade are not random. There is a relationship between these 2 variables. It is possible to assume that those that participate in voluntary training work at a higher efficiency rate (and more efficient employees pay more attention to their training), are more motivated, can invest more time and energy into their self-development, are more interested in the activities within the company, all of which is expressed in a higher year-end assessment."
   ]
  },
  {
   "cell_type": "code",
   "execution_count": null,
   "id": "6c71f151",
   "metadata": {},
   "outputs": [],
   "source": []
  },
  {
   "cell_type": "code",
   "execution_count": null,
   "id": "68f39b53",
   "metadata": {},
   "outputs": [],
   "source": []
  }
 ],
 "metadata": {
  "kernelspec": {
   "display_name": "Python 3",
   "language": "python",
   "name": "python3"
  },
  "language_info": {
   "codemirror_mode": {
    "name": "ipython",
    "version": 3
   },
   "file_extension": ".py",
   "mimetype": "text/x-python",
   "name": "python",
   "nbconvert_exporter": "python",
   "pygments_lexer": "ipython3",
   "version": "3.8.8"
  }
 },
 "nbformat": 4,
 "nbformat_minor": 5
}
